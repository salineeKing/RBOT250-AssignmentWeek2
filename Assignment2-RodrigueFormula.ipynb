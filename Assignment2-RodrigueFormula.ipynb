{
 "cells": [
  {
   "cell_type": "markdown",
   "id": "088f4974-d68e-480b-80e6-de777cd98047",
   "metadata": {},
   "source": [
    "# **RBOT 250 Robot Manipulation, Planning and Control**\n",
    "\n",
    "## Assignment 2: Rigid Body Motions\n",
    "\n",
    "#### Instructor: Dr. Lekan Molu\n",
    "\n",
    "#### Submitted By: Salinee Kingbaisomboon (Sage ID: 20801897)\n",
    "\n",
    "---"
   ]
  },
  {
   "cell_type": "markdown",
   "id": "78ff449c-ff2d-49d0-bcd3-6feeb3ca308e",
   "metadata": {},
   "source": [
    "### Given an axis of motion, w = [0, 0, 1] and a rotation angle of 45 degrees, write a python script that computes the exponential map of the rotation angle using Rodrigue's formula"
   ]
  },
  {
   "cell_type": "code",
   "execution_count": 7,
   "id": "d5f72057-a289-464c-a4d4-75fc01b02077",
   "metadata": {},
   "outputs": [
    {
     "name": "stdout",
     "output_type": "stream",
     "text": [
      "[[1.         0.         1.07829138]\n",
      " [0.         1.         1.07829138]\n",
      " [0.         0.         2.07829138]]\n"
     ]
    }
   ],
   "source": [
    "### Answer\n",
    "import numpy as np\n",
    "\n",
    "w = np.array([0,0,1]) # axis of motion\n",
    "angle = np.pi/4 # rotation angle of 45 degrees\n",
    "exponential_map = np.identity(3) + w*angle + (1 - np.cos(angle))*(w*np.transpose(w)) # This euqation is based on the (3.2.6) on Murray's textbook\n",
    "\n",
    "# Display the exponential map\n",
    "print(exponential_map)"
   ]
  },
  {
   "cell_type": "code",
   "execution_count": null,
   "id": "5eb8ffd6-a546-4504-82ab-950d76525241",
   "metadata": {},
   "outputs": [],
   "source": []
  }
 ],
 "metadata": {
  "kernelspec": {
   "display_name": "py39",
   "language": "python",
   "name": "py39"
  },
  "language_info": {
   "codemirror_mode": {
    "name": "ipython",
    "version": 3
   },
   "file_extension": ".py",
   "mimetype": "text/x-python",
   "name": "python",
   "nbconvert_exporter": "python",
   "pygments_lexer": "ipython3",
   "version": "3.9.7"
  }
 },
 "nbformat": 4,
 "nbformat_minor": 5
}
